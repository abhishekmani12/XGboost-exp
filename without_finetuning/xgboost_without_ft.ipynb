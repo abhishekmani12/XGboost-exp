{
  "nbformat": 4,
  "nbformat_minor": 0,
  "metadata": {
    "colab": {
      "name": "xgboost_without_ft.ipynb",
      "provenance": [],
      "authorship_tag": "ABX9TyODmkgZ2fHa+XKcjZpROd6Q"
    },
    "kernelspec": {
      "name": "python3",
      "display_name": "Python 3"
    },
    "language_info": {
      "name": "python"
    }
  },
  "cells": [
    {
      "cell_type": "markdown",
      "source": [
        "**IMPORT:**"
      ],
      "metadata": {
        "id": "6pThy_7E24KS"
      }
    },
    {
      "cell_type": "code",
      "execution_count": 40,
      "metadata": {
        "colab": {
          "base_uri": "https://localhost:8080/"
        },
        "id": "GvyY7PNHdEhM",
        "outputId": "97b67a24-0287-469c-9b94-f3f5b408cb08"
      },
      "outputs": [
        {
          "output_type": "stream",
          "name": "stdout",
          "text": [
            "Looking in indexes: https://pypi.org/simple, https://us-python.pkg.dev/colab-wheels/public/simple/\n",
            "Requirement already satisfied: xgboost in /usr/local/lib/python3.7/dist-packages (0.90)\n",
            "Requirement already satisfied: numpy in /usr/local/lib/python3.7/dist-packages (from xgboost) (1.21.6)\n",
            "Requirement already satisfied: scipy in /usr/local/lib/python3.7/dist-packages (from xgboost) (1.4.1)\n"
          ]
        }
      ],
      "source": [
        "import pandas as pd\n",
        "import numpy as np\n",
        "import sklearn\n",
        "\n",
        "!pip install xgboost\n",
        "import xgboost as xg"
      ]
    },
    {
      "cell_type": "markdown",
      "source": [
        "**EDA:**"
      ],
      "metadata": {
        "id": "EE73EbDa27-h"
      }
    },
    {
      "cell_type": "code",
      "source": [
        "df=pd.read_csv(\"/content/bank-additional-full.csv\", sep=\";\")"
      ],
      "metadata": {
        "id": "aILmbUi4esfg"
      },
      "execution_count": 29,
      "outputs": []
    },
    {
      "cell_type": "code",
      "source": [
        "df"
      ],
      "metadata": {
        "colab": {
          "base_uri": "https://localhost:8080/",
          "height": 488
        },
        "id": "2ds3ncTdesjr",
        "outputId": "439e327f-a8e0-41ca-be75-03cac2a87ba4"
      },
      "execution_count": 6,
      "outputs": [
        {
          "output_type": "execute_result",
          "data": {
            "text/plain": [
              "       age          job  marital            education  default housing loan  \\\n",
              "0       56    housemaid  married             basic.4y       no      no   no   \n",
              "1       57     services  married          high.school  unknown      no   no   \n",
              "2       37     services  married          high.school       no     yes   no   \n",
              "3       40       admin.  married             basic.6y       no      no   no   \n",
              "4       56     services  married          high.school       no      no  yes   \n",
              "...    ...          ...      ...                  ...      ...     ...  ...   \n",
              "41183   73      retired  married  professional.course       no     yes   no   \n",
              "41184   46  blue-collar  married  professional.course       no      no   no   \n",
              "41185   56      retired  married    university.degree       no     yes   no   \n",
              "41186   44   technician  married  professional.course       no      no   no   \n",
              "41187   74      retired  married  professional.course       no     yes   no   \n",
              "\n",
              "         contact month day_of_week  ...  campaign  pdays  previous  \\\n",
              "0      telephone   may         mon  ...         1    999         0   \n",
              "1      telephone   may         mon  ...         1    999         0   \n",
              "2      telephone   may         mon  ...         1    999         0   \n",
              "3      telephone   may         mon  ...         1    999         0   \n",
              "4      telephone   may         mon  ...         1    999         0   \n",
              "...          ...   ...         ...  ...       ...    ...       ...   \n",
              "41183   cellular   nov         fri  ...         1    999         0   \n",
              "41184   cellular   nov         fri  ...         1    999         0   \n",
              "41185   cellular   nov         fri  ...         2    999         0   \n",
              "41186   cellular   nov         fri  ...         1    999         0   \n",
              "41187   cellular   nov         fri  ...         3    999         1   \n",
              "\n",
              "          poutcome emp.var.rate  cons.price.idx  cons.conf.idx  euribor3m  \\\n",
              "0      nonexistent          1.1          93.994          -36.4      4.857   \n",
              "1      nonexistent          1.1          93.994          -36.4      4.857   \n",
              "2      nonexistent          1.1          93.994          -36.4      4.857   \n",
              "3      nonexistent          1.1          93.994          -36.4      4.857   \n",
              "4      nonexistent          1.1          93.994          -36.4      4.857   \n",
              "...            ...          ...             ...            ...        ...   \n",
              "41183  nonexistent         -1.1          94.767          -50.8      1.028   \n",
              "41184  nonexistent         -1.1          94.767          -50.8      1.028   \n",
              "41185  nonexistent         -1.1          94.767          -50.8      1.028   \n",
              "41186  nonexistent         -1.1          94.767          -50.8      1.028   \n",
              "41187      failure         -1.1          94.767          -50.8      1.028   \n",
              "\n",
              "       nr.employed    y  \n",
              "0           5191.0   no  \n",
              "1           5191.0   no  \n",
              "2           5191.0   no  \n",
              "3           5191.0   no  \n",
              "4           5191.0   no  \n",
              "...            ...  ...  \n",
              "41183       4963.6  yes  \n",
              "41184       4963.6   no  \n",
              "41185       4963.6   no  \n",
              "41186       4963.6  yes  \n",
              "41187       4963.6   no  \n",
              "\n",
              "[41188 rows x 21 columns]"
            ],
            "text/html": [
              "\n",
              "  <div id=\"df-6b2cb561-fc9b-49f1-a664-e124df978880\">\n",
              "    <div class=\"colab-df-container\">\n",
              "      <div>\n",
              "<style scoped>\n",
              "    .dataframe tbody tr th:only-of-type {\n",
              "        vertical-align: middle;\n",
              "    }\n",
              "\n",
              "    .dataframe tbody tr th {\n",
              "        vertical-align: top;\n",
              "    }\n",
              "\n",
              "    .dataframe thead th {\n",
              "        text-align: right;\n",
              "    }\n",
              "</style>\n",
              "<table border=\"1\" class=\"dataframe\">\n",
              "  <thead>\n",
              "    <tr style=\"text-align: right;\">\n",
              "      <th></th>\n",
              "      <th>age</th>\n",
              "      <th>job</th>\n",
              "      <th>marital</th>\n",
              "      <th>education</th>\n",
              "      <th>default</th>\n",
              "      <th>housing</th>\n",
              "      <th>loan</th>\n",
              "      <th>contact</th>\n",
              "      <th>month</th>\n",
              "      <th>day_of_week</th>\n",
              "      <th>...</th>\n",
              "      <th>campaign</th>\n",
              "      <th>pdays</th>\n",
              "      <th>previous</th>\n",
              "      <th>poutcome</th>\n",
              "      <th>emp.var.rate</th>\n",
              "      <th>cons.price.idx</th>\n",
              "      <th>cons.conf.idx</th>\n",
              "      <th>euribor3m</th>\n",
              "      <th>nr.employed</th>\n",
              "      <th>y</th>\n",
              "    </tr>\n",
              "  </thead>\n",
              "  <tbody>\n",
              "    <tr>\n",
              "      <th>0</th>\n",
              "      <td>56</td>\n",
              "      <td>housemaid</td>\n",
              "      <td>married</td>\n",
              "      <td>basic.4y</td>\n",
              "      <td>no</td>\n",
              "      <td>no</td>\n",
              "      <td>no</td>\n",
              "      <td>telephone</td>\n",
              "      <td>may</td>\n",
              "      <td>mon</td>\n",
              "      <td>...</td>\n",
              "      <td>1</td>\n",
              "      <td>999</td>\n",
              "      <td>0</td>\n",
              "      <td>nonexistent</td>\n",
              "      <td>1.1</td>\n",
              "      <td>93.994</td>\n",
              "      <td>-36.4</td>\n",
              "      <td>4.857</td>\n",
              "      <td>5191.0</td>\n",
              "      <td>no</td>\n",
              "    </tr>\n",
              "    <tr>\n",
              "      <th>1</th>\n",
              "      <td>57</td>\n",
              "      <td>services</td>\n",
              "      <td>married</td>\n",
              "      <td>high.school</td>\n",
              "      <td>unknown</td>\n",
              "      <td>no</td>\n",
              "      <td>no</td>\n",
              "      <td>telephone</td>\n",
              "      <td>may</td>\n",
              "      <td>mon</td>\n",
              "      <td>...</td>\n",
              "      <td>1</td>\n",
              "      <td>999</td>\n",
              "      <td>0</td>\n",
              "      <td>nonexistent</td>\n",
              "      <td>1.1</td>\n",
              "      <td>93.994</td>\n",
              "      <td>-36.4</td>\n",
              "      <td>4.857</td>\n",
              "      <td>5191.0</td>\n",
              "      <td>no</td>\n",
              "    </tr>\n",
              "    <tr>\n",
              "      <th>2</th>\n",
              "      <td>37</td>\n",
              "      <td>services</td>\n",
              "      <td>married</td>\n",
              "      <td>high.school</td>\n",
              "      <td>no</td>\n",
              "      <td>yes</td>\n",
              "      <td>no</td>\n",
              "      <td>telephone</td>\n",
              "      <td>may</td>\n",
              "      <td>mon</td>\n",
              "      <td>...</td>\n",
              "      <td>1</td>\n",
              "      <td>999</td>\n",
              "      <td>0</td>\n",
              "      <td>nonexistent</td>\n",
              "      <td>1.1</td>\n",
              "      <td>93.994</td>\n",
              "      <td>-36.4</td>\n",
              "      <td>4.857</td>\n",
              "      <td>5191.0</td>\n",
              "      <td>no</td>\n",
              "    </tr>\n",
              "    <tr>\n",
              "      <th>3</th>\n",
              "      <td>40</td>\n",
              "      <td>admin.</td>\n",
              "      <td>married</td>\n",
              "      <td>basic.6y</td>\n",
              "      <td>no</td>\n",
              "      <td>no</td>\n",
              "      <td>no</td>\n",
              "      <td>telephone</td>\n",
              "      <td>may</td>\n",
              "      <td>mon</td>\n",
              "      <td>...</td>\n",
              "      <td>1</td>\n",
              "      <td>999</td>\n",
              "      <td>0</td>\n",
              "      <td>nonexistent</td>\n",
              "      <td>1.1</td>\n",
              "      <td>93.994</td>\n",
              "      <td>-36.4</td>\n",
              "      <td>4.857</td>\n",
              "      <td>5191.0</td>\n",
              "      <td>no</td>\n",
              "    </tr>\n",
              "    <tr>\n",
              "      <th>4</th>\n",
              "      <td>56</td>\n",
              "      <td>services</td>\n",
              "      <td>married</td>\n",
              "      <td>high.school</td>\n",
              "      <td>no</td>\n",
              "      <td>no</td>\n",
              "      <td>yes</td>\n",
              "      <td>telephone</td>\n",
              "      <td>may</td>\n",
              "      <td>mon</td>\n",
              "      <td>...</td>\n",
              "      <td>1</td>\n",
              "      <td>999</td>\n",
              "      <td>0</td>\n",
              "      <td>nonexistent</td>\n",
              "      <td>1.1</td>\n",
              "      <td>93.994</td>\n",
              "      <td>-36.4</td>\n",
              "      <td>4.857</td>\n",
              "      <td>5191.0</td>\n",
              "      <td>no</td>\n",
              "    </tr>\n",
              "    <tr>\n",
              "      <th>...</th>\n",
              "      <td>...</td>\n",
              "      <td>...</td>\n",
              "      <td>...</td>\n",
              "      <td>...</td>\n",
              "      <td>...</td>\n",
              "      <td>...</td>\n",
              "      <td>...</td>\n",
              "      <td>...</td>\n",
              "      <td>...</td>\n",
              "      <td>...</td>\n",
              "      <td>...</td>\n",
              "      <td>...</td>\n",
              "      <td>...</td>\n",
              "      <td>...</td>\n",
              "      <td>...</td>\n",
              "      <td>...</td>\n",
              "      <td>...</td>\n",
              "      <td>...</td>\n",
              "      <td>...</td>\n",
              "      <td>...</td>\n",
              "      <td>...</td>\n",
              "    </tr>\n",
              "    <tr>\n",
              "      <th>41183</th>\n",
              "      <td>73</td>\n",
              "      <td>retired</td>\n",
              "      <td>married</td>\n",
              "      <td>professional.course</td>\n",
              "      <td>no</td>\n",
              "      <td>yes</td>\n",
              "      <td>no</td>\n",
              "      <td>cellular</td>\n",
              "      <td>nov</td>\n",
              "      <td>fri</td>\n",
              "      <td>...</td>\n",
              "      <td>1</td>\n",
              "      <td>999</td>\n",
              "      <td>0</td>\n",
              "      <td>nonexistent</td>\n",
              "      <td>-1.1</td>\n",
              "      <td>94.767</td>\n",
              "      <td>-50.8</td>\n",
              "      <td>1.028</td>\n",
              "      <td>4963.6</td>\n",
              "      <td>yes</td>\n",
              "    </tr>\n",
              "    <tr>\n",
              "      <th>41184</th>\n",
              "      <td>46</td>\n",
              "      <td>blue-collar</td>\n",
              "      <td>married</td>\n",
              "      <td>professional.course</td>\n",
              "      <td>no</td>\n",
              "      <td>no</td>\n",
              "      <td>no</td>\n",
              "      <td>cellular</td>\n",
              "      <td>nov</td>\n",
              "      <td>fri</td>\n",
              "      <td>...</td>\n",
              "      <td>1</td>\n",
              "      <td>999</td>\n",
              "      <td>0</td>\n",
              "      <td>nonexistent</td>\n",
              "      <td>-1.1</td>\n",
              "      <td>94.767</td>\n",
              "      <td>-50.8</td>\n",
              "      <td>1.028</td>\n",
              "      <td>4963.6</td>\n",
              "      <td>no</td>\n",
              "    </tr>\n",
              "    <tr>\n",
              "      <th>41185</th>\n",
              "      <td>56</td>\n",
              "      <td>retired</td>\n",
              "      <td>married</td>\n",
              "      <td>university.degree</td>\n",
              "      <td>no</td>\n",
              "      <td>yes</td>\n",
              "      <td>no</td>\n",
              "      <td>cellular</td>\n",
              "      <td>nov</td>\n",
              "      <td>fri</td>\n",
              "      <td>...</td>\n",
              "      <td>2</td>\n",
              "      <td>999</td>\n",
              "      <td>0</td>\n",
              "      <td>nonexistent</td>\n",
              "      <td>-1.1</td>\n",
              "      <td>94.767</td>\n",
              "      <td>-50.8</td>\n",
              "      <td>1.028</td>\n",
              "      <td>4963.6</td>\n",
              "      <td>no</td>\n",
              "    </tr>\n",
              "    <tr>\n",
              "      <th>41186</th>\n",
              "      <td>44</td>\n",
              "      <td>technician</td>\n",
              "      <td>married</td>\n",
              "      <td>professional.course</td>\n",
              "      <td>no</td>\n",
              "      <td>no</td>\n",
              "      <td>no</td>\n",
              "      <td>cellular</td>\n",
              "      <td>nov</td>\n",
              "      <td>fri</td>\n",
              "      <td>...</td>\n",
              "      <td>1</td>\n",
              "      <td>999</td>\n",
              "      <td>0</td>\n",
              "      <td>nonexistent</td>\n",
              "      <td>-1.1</td>\n",
              "      <td>94.767</td>\n",
              "      <td>-50.8</td>\n",
              "      <td>1.028</td>\n",
              "      <td>4963.6</td>\n",
              "      <td>yes</td>\n",
              "    </tr>\n",
              "    <tr>\n",
              "      <th>41187</th>\n",
              "      <td>74</td>\n",
              "      <td>retired</td>\n",
              "      <td>married</td>\n",
              "      <td>professional.course</td>\n",
              "      <td>no</td>\n",
              "      <td>yes</td>\n",
              "      <td>no</td>\n",
              "      <td>cellular</td>\n",
              "      <td>nov</td>\n",
              "      <td>fri</td>\n",
              "      <td>...</td>\n",
              "      <td>3</td>\n",
              "      <td>999</td>\n",
              "      <td>1</td>\n",
              "      <td>failure</td>\n",
              "      <td>-1.1</td>\n",
              "      <td>94.767</td>\n",
              "      <td>-50.8</td>\n",
              "      <td>1.028</td>\n",
              "      <td>4963.6</td>\n",
              "      <td>no</td>\n",
              "    </tr>\n",
              "  </tbody>\n",
              "</table>\n",
              "<p>41188 rows × 21 columns</p>\n",
              "</div>\n",
              "      <button class=\"colab-df-convert\" onclick=\"convertToInteractive('df-6b2cb561-fc9b-49f1-a664-e124df978880')\"\n",
              "              title=\"Convert this dataframe to an interactive table.\"\n",
              "              style=\"display:none;\">\n",
              "        \n",
              "  <svg xmlns=\"http://www.w3.org/2000/svg\" height=\"24px\"viewBox=\"0 0 24 24\"\n",
              "       width=\"24px\">\n",
              "    <path d=\"M0 0h24v24H0V0z\" fill=\"none\"/>\n",
              "    <path d=\"M18.56 5.44l.94 2.06.94-2.06 2.06-.94-2.06-.94-.94-2.06-.94 2.06-2.06.94zm-11 1L8.5 8.5l.94-2.06 2.06-.94-2.06-.94L8.5 2.5l-.94 2.06-2.06.94zm10 10l.94 2.06.94-2.06 2.06-.94-2.06-.94-.94-2.06-.94 2.06-2.06.94z\"/><path d=\"M17.41 7.96l-1.37-1.37c-.4-.4-.92-.59-1.43-.59-.52 0-1.04.2-1.43.59L10.3 9.45l-7.72 7.72c-.78.78-.78 2.05 0 2.83L4 21.41c.39.39.9.59 1.41.59.51 0 1.02-.2 1.41-.59l7.78-7.78 2.81-2.81c.8-.78.8-2.07 0-2.86zM5.41 20L4 18.59l7.72-7.72 1.47 1.35L5.41 20z\"/>\n",
              "  </svg>\n",
              "      </button>\n",
              "      \n",
              "  <style>\n",
              "    .colab-df-container {\n",
              "      display:flex;\n",
              "      flex-wrap:wrap;\n",
              "      gap: 12px;\n",
              "    }\n",
              "\n",
              "    .colab-df-convert {\n",
              "      background-color: #E8F0FE;\n",
              "      border: none;\n",
              "      border-radius: 50%;\n",
              "      cursor: pointer;\n",
              "      display: none;\n",
              "      fill: #1967D2;\n",
              "      height: 32px;\n",
              "      padding: 0 0 0 0;\n",
              "      width: 32px;\n",
              "    }\n",
              "\n",
              "    .colab-df-convert:hover {\n",
              "      background-color: #E2EBFA;\n",
              "      box-shadow: 0px 1px 2px rgba(60, 64, 67, 0.3), 0px 1px 3px 1px rgba(60, 64, 67, 0.15);\n",
              "      fill: #174EA6;\n",
              "    }\n",
              "\n",
              "    [theme=dark] .colab-df-convert {\n",
              "      background-color: #3B4455;\n",
              "      fill: #D2E3FC;\n",
              "    }\n",
              "\n",
              "    [theme=dark] .colab-df-convert:hover {\n",
              "      background-color: #434B5C;\n",
              "      box-shadow: 0px 1px 3px 1px rgba(0, 0, 0, 0.15);\n",
              "      filter: drop-shadow(0px 1px 2px rgba(0, 0, 0, 0.3));\n",
              "      fill: #FFFFFF;\n",
              "    }\n",
              "  </style>\n",
              "\n",
              "      <script>\n",
              "        const buttonEl =\n",
              "          document.querySelector('#df-6b2cb561-fc9b-49f1-a664-e124df978880 button.colab-df-convert');\n",
              "        buttonEl.style.display =\n",
              "          google.colab.kernel.accessAllowed ? 'block' : 'none';\n",
              "\n",
              "        async function convertToInteractive(key) {\n",
              "          const element = document.querySelector('#df-6b2cb561-fc9b-49f1-a664-e124df978880');\n",
              "          const dataTable =\n",
              "            await google.colab.kernel.invokeFunction('convertToInteractive',\n",
              "                                                     [key], {});\n",
              "          if (!dataTable) return;\n",
              "\n",
              "          const docLinkHtml = 'Like what you see? Visit the ' +\n",
              "            '<a target=\"_blank\" href=https://colab.research.google.com/notebooks/data_table.ipynb>data table notebook</a>'\n",
              "            + ' to learn more about interactive tables.';\n",
              "          element.innerHTML = '';\n",
              "          dataTable['output_type'] = 'display_data';\n",
              "          await google.colab.output.renderOutput(dataTable, element);\n",
              "          const docLink = document.createElement('div');\n",
              "          docLink.innerHTML = docLinkHtml;\n",
              "          element.appendChild(docLink);\n",
              "        }\n",
              "      </script>\n",
              "    </div>\n",
              "  </div>\n",
              "  "
            ]
          },
          "metadata": {},
          "execution_count": 6
        }
      ]
    },
    {
      "cell_type": "code",
      "source": [
        "df.columns"
      ],
      "metadata": {
        "colab": {
          "base_uri": "https://localhost:8080/"
        },
        "id": "IpV54aq5eswm",
        "outputId": "b3b88e36-6c89-4047-b47a-f5cb40c606d3"
      },
      "execution_count": 19,
      "outputs": [
        {
          "output_type": "execute_result",
          "data": {
            "text/plain": [
              "Index(['age', 'job', 'marital', 'education', 'default', 'housing', 'loan',\n",
              "       'contact', 'month', 'day_of_week', 'duration', 'campaign', 'pdays',\n",
              "       'previous', 'poutcome', 'emp.var.rate', 'cons.price.idx',\n",
              "       'cons.conf.idx', 'euribor3m', 'nr.employed', 'y'],\n",
              "      dtype='object')"
            ]
          },
          "metadata": {},
          "execution_count": 19
        }
      ]
    },
    {
      "cell_type": "code",
      "source": [
        "df.isnull().sum()"
      ],
      "metadata": {
        "colab": {
          "base_uri": "https://localhost:8080/"
        },
        "id": "vVCmpGxPessb",
        "outputId": "f64cc684-3146-4c92-bc02-654ed38f55a1"
      },
      "execution_count": 17,
      "outputs": [
        {
          "output_type": "execute_result",
          "data": {
            "text/plain": [
              "age               0\n",
              "job               0\n",
              "marital           0\n",
              "education         0\n",
              "default           0\n",
              "housing           0\n",
              "loan              0\n",
              "contact           0\n",
              "month             0\n",
              "day_of_week       0\n",
              "duration          0\n",
              "campaign          0\n",
              "pdays             0\n",
              "previous          0\n",
              "poutcome          0\n",
              "emp.var.rate      0\n",
              "cons.price.idx    0\n",
              "cons.conf.idx     0\n",
              "euribor3m         0\n",
              "nr.employed       0\n",
              "y                 0\n",
              "dtype: int64"
            ]
          },
          "metadata": {},
          "execution_count": 17
        }
      ]
    },
    {
      "cell_type": "code",
      "source": [
        "df.info()"
      ],
      "metadata": {
        "colab": {
          "base_uri": "https://localhost:8080/"
        },
        "id": "iwjn94aZesn9",
        "outputId": "80560d99-3588-436e-af86-8fb9c262860a"
      },
      "execution_count": 15,
      "outputs": [
        {
          "output_type": "stream",
          "name": "stdout",
          "text": [
            "<class 'pandas.core.frame.DataFrame'>\n",
            "RangeIndex: 41188 entries, 0 to 41187\n",
            "Data columns (total 21 columns):\n",
            " #   Column          Non-Null Count  Dtype  \n",
            "---  ------          --------------  -----  \n",
            " 0   age             41188 non-null  int64  \n",
            " 1   job             41188 non-null  object \n",
            " 2   marital         41188 non-null  object \n",
            " 3   education       41188 non-null  object \n",
            " 4   default         41188 non-null  object \n",
            " 5   housing         41188 non-null  object \n",
            " 6   loan            41188 non-null  object \n",
            " 7   contact         41188 non-null  object \n",
            " 8   month           41188 non-null  object \n",
            " 9   day_of_week     41188 non-null  object \n",
            " 10  duration        41188 non-null  int64  \n",
            " 11  campaign        41188 non-null  int64  \n",
            " 12  pdays           41188 non-null  int64  \n",
            " 13  previous        41188 non-null  int64  \n",
            " 14  poutcome        41188 non-null  object \n",
            " 15  emp.var.rate    41188 non-null  float64\n",
            " 16  cons.price.idx  41188 non-null  float64\n",
            " 17  cons.conf.idx   41188 non-null  float64\n",
            " 18  euribor3m       41188 non-null  float64\n",
            " 19  nr.employed     41188 non-null  float64\n",
            " 20  y               41188 non-null  object \n",
            "dtypes: float64(5), int64(5), object(11)\n",
            "memory usage: 6.6+ MB\n"
          ]
        }
      ]
    },
    {
      "cell_type": "markdown",
      "source": [
        "**LABEL ENCODING:**"
      ],
      "metadata": {
        "id": "_ERh8P2R3Hj_"
      }
    },
    {
      "cell_type": "code",
      "source": [
        "from sklearn import preprocessing\n",
        "\n",
        "objcol=df.columns[df.dtypes == 'object']\n",
        "encoder= preprocessing.LabelEncoder()\n",
        "for col in objcol:\n",
        "  df[col]=encoder.fit_transform(df[col])"
      ],
      "metadata": {
        "id": "JY-MnywVl-jP"
      },
      "execution_count": 47,
      "outputs": []
    },
    {
      "cell_type": "code",
      "source": [
        "df.info()"
      ],
      "metadata": {
        "colab": {
          "base_uri": "https://localhost:8080/"
        },
        "id": "u8dgP3qoes4u",
        "outputId": "775c3715-fbf3-49fd-e4f8-ec900dfd9648"
      },
      "execution_count": 50,
      "outputs": [
        {
          "output_type": "stream",
          "name": "stdout",
          "text": [
            "<class 'pandas.core.frame.DataFrame'>\n",
            "RangeIndex: 41188 entries, 0 to 41187\n",
            "Data columns (total 21 columns):\n",
            " #   Column          Non-Null Count  Dtype  \n",
            "---  ------          --------------  -----  \n",
            " 0   age             41188 non-null  int64  \n",
            " 1   job             41188 non-null  int64  \n",
            " 2   marital         41188 non-null  int64  \n",
            " 3   education       41188 non-null  int64  \n",
            " 4   default         41188 non-null  int64  \n",
            " 5   housing         41188 non-null  int64  \n",
            " 6   loan            41188 non-null  int64  \n",
            " 7   contact         41188 non-null  int64  \n",
            " 8   month           41188 non-null  int64  \n",
            " 9   day_of_week     41188 non-null  int64  \n",
            " 10  duration        41188 non-null  int64  \n",
            " 11  campaign        41188 non-null  int64  \n",
            " 12  pdays           41188 non-null  int64  \n",
            " 13  previous        41188 non-null  int64  \n",
            " 14  poutcome        41188 non-null  int64  \n",
            " 15  emp.var.rate    41188 non-null  float64\n",
            " 16  cons.price.idx  41188 non-null  float64\n",
            " 17  cons.conf.idx   41188 non-null  float64\n",
            " 18  euribor3m       41188 non-null  float64\n",
            " 19  nr.employed     41188 non-null  float64\n",
            " 20  y               41188 non-null  int64  \n",
            "dtypes: float64(5), int64(16)\n",
            "memory usage: 6.6 MB\n"
          ]
        }
      ]
    },
    {
      "cell_type": "markdown",
      "source": [
        "**SPLIT: Train, Test**"
      ],
      "metadata": {
        "id": "b1aDPBXW3OF4"
      }
    },
    {
      "cell_type": "code",
      "source": [
        "features=df.columns[:20]\n",
        "#print(features)\n",
        "\n",
        "x=df.loc[:,features]\n",
        "y=df.loc[:,['y']]\n",
        "\n",
        "print(x.shape,y.shape)"
      ],
      "metadata": {
        "colab": {
          "base_uri": "https://localhost:8080/"
        },
        "id": "19xXxuLFo8MW",
        "outputId": "7920e223-21eb-4c7b-ebeb-7bc74d5ab3d7"
      },
      "execution_count": 61,
      "outputs": [
        {
          "output_type": "stream",
          "name": "stdout",
          "text": [
            "(41188, 20) (41188, 1)\n"
          ]
        }
      ]
    },
    {
      "cell_type": "code",
      "source": [
        "from sklearn.model_selection import train_test_split\n",
        "\n",
        "x_train, x_test, y_train, y_test = train_test_split(x,y, test_size=0.2, random_state=42)"
      ],
      "metadata": {
        "id": "pwH0x56RkZk4"
      },
      "execution_count": 62,
      "outputs": []
    },
    {
      "cell_type": "markdown",
      "source": [
        "**TRAIN:**"
      ],
      "metadata": {
        "id": "zqtSX0n83SnB"
      }
    },
    {
      "cell_type": "code",
      "source": [
        "eval_set=[(x_train,y_train),(x_test,y_test)]\n",
        "eval_metric=[\"auc\",\"error\"]"
      ],
      "metadata": {
        "id": "I8yRBGa6vKru"
      },
      "execution_count": 69,
      "outputs": []
    },
    {
      "cell_type": "code",
      "source": [
        "xgb1=xg.XGBClassifier()\n",
        "xgb1.fit(x_train,y_train.values.ravel(), eval_metric=eval_metric,eval_set=eval_set, verbose=True)"
      ],
      "metadata": {
        "colab": {
          "base_uri": "https://localhost:8080/"
        },
        "id": "xD0iiWnJkZoC",
        "outputId": "033d3b4f-5f18-407d-cf3d-be3f38b5f593"
      },
      "execution_count": 70,
      "outputs": [
        {
          "output_type": "stream",
          "name": "stdout",
          "text": [
            "[0]\tvalidation_0-auc:0.902403\tvalidation_0-error:0.091381\tvalidation_1-auc:0.901931\tvalidation_1-error:0.091042\n"
          ]
        },
        {
          "output_type": "stream",
          "name": "stderr",
          "text": [
            "/usr/local/lib/python3.7/dist-packages/sklearn/preprocessing/_label.py:133: DataConversionWarning: A column-vector y was passed when a 1d array was expected. Please change the shape of y to (n_samples, ), for example using ravel().\n",
            "  y = column_or_1d(y, warn=True)\n"
          ]
        },
        {
          "output_type": "stream",
          "name": "stdout",
          "text": [
            "[1]\tvalidation_0-auc:0.902707\tvalidation_0-error:0.091259\tvalidation_1-auc:0.902027\tvalidation_1-error:0.091284\n",
            "[2]\tvalidation_0-auc:0.905674\tvalidation_0-error:0.089742\tvalidation_1-auc:0.904704\tvalidation_1-error:0.090435\n",
            "[3]\tvalidation_0-auc:0.90592\tvalidation_0-error:0.087921\tvalidation_1-auc:0.904902\tvalidation_1-error:0.08825\n",
            "[4]\tvalidation_0-auc:0.913654\tvalidation_0-error:0.087921\tvalidation_1-auc:0.912067\tvalidation_1-error:0.08825\n",
            "[5]\tvalidation_0-auc:0.918087\tvalidation_0-error:0.087921\tvalidation_1-auc:0.915319\tvalidation_1-error:0.08825\n",
            "[6]\tvalidation_0-auc:0.922837\tvalidation_0-error:0.087921\tvalidation_1-auc:0.918441\tvalidation_1-error:0.08825\n",
            "[7]\tvalidation_0-auc:0.924366\tvalidation_0-error:0.087375\tvalidation_1-auc:0.922467\tvalidation_1-error:0.087764\n",
            "[8]\tvalidation_0-auc:0.924723\tvalidation_0-error:0.087223\tvalidation_1-auc:0.922483\tvalidation_1-error:0.087764\n",
            "[9]\tvalidation_0-auc:0.925616\tvalidation_0-error:0.087253\tvalidation_1-auc:0.923416\tvalidation_1-error:0.087764\n",
            "[10]\tvalidation_0-auc:0.926461\tvalidation_0-error:0.086737\tvalidation_1-auc:0.924505\tvalidation_1-error:0.087036\n",
            "[11]\tvalidation_0-auc:0.933677\tvalidation_0-error:0.085918\tvalidation_1-auc:0.932084\tvalidation_1-error:0.087157\n",
            "[12]\tvalidation_0-auc:0.934264\tvalidation_0-error:0.085888\tvalidation_1-auc:0.932963\tvalidation_1-error:0.087157\n",
            "[13]\tvalidation_0-auc:0.934324\tvalidation_0-error:0.085766\tvalidation_1-auc:0.933328\tvalidation_1-error:0.086914\n",
            "[14]\tvalidation_0-auc:0.934544\tvalidation_0-error:0.085918\tvalidation_1-auc:0.933121\tvalidation_1-error:0.087157\n",
            "[15]\tvalidation_0-auc:0.934737\tvalidation_0-error:0.087891\tvalidation_1-auc:0.933623\tvalidation_1-error:0.09177\n",
            "[16]\tvalidation_0-auc:0.934909\tvalidation_0-error:0.08525\tvalidation_1-auc:0.933665\tvalidation_1-error:0.086914\n",
            "[17]\tvalidation_0-auc:0.935577\tvalidation_0-error:0.085584\tvalidation_1-auc:0.934551\tvalidation_1-error:0.087764\n",
            "[18]\tvalidation_0-auc:0.937442\tvalidation_0-error:0.08783\tvalidation_1-auc:0.935626\tvalidation_1-error:0.091891\n",
            "[19]\tvalidation_0-auc:0.93783\tvalidation_0-error:0.087891\tvalidation_1-auc:0.935751\tvalidation_1-error:0.09177\n",
            "[20]\tvalidation_0-auc:0.939566\tvalidation_0-error:0.08786\tvalidation_1-auc:0.938811\tvalidation_1-error:0.091527\n",
            "[21]\tvalidation_0-auc:0.940169\tvalidation_0-error:0.087709\tvalidation_1-auc:0.939425\tvalidation_1-error:0.091406\n",
            "[22]\tvalidation_0-auc:0.940262\tvalidation_0-error:0.087709\tvalidation_1-auc:0.94018\tvalidation_1-error:0.091163\n",
            "[23]\tvalidation_0-auc:0.940843\tvalidation_0-error:0.087709\tvalidation_1-auc:0.940861\tvalidation_1-error:0.091163\n",
            "[24]\tvalidation_0-auc:0.941351\tvalidation_0-error:0.087253\tvalidation_1-auc:0.940968\tvalidation_1-error:0.092377\n",
            "[25]\tvalidation_0-auc:0.941394\tvalidation_0-error:0.087223\tvalidation_1-auc:0.941018\tvalidation_1-error:0.092377\n",
            "[26]\tvalidation_0-auc:0.942442\tvalidation_0-error:0.087132\tvalidation_1-auc:0.941392\tvalidation_1-error:0.092134\n",
            "[27]\tvalidation_0-auc:0.943214\tvalidation_0-error:0.087223\tvalidation_1-auc:0.942451\tvalidation_1-error:0.091527\n",
            "[28]\tvalidation_0-auc:0.943233\tvalidation_0-error:0.087223\tvalidation_1-auc:0.942465\tvalidation_1-error:0.091527\n",
            "[29]\tvalidation_0-auc:0.943797\tvalidation_0-error:0.087132\tvalidation_1-auc:0.942882\tvalidation_1-error:0.091527\n",
            "[30]\tvalidation_0-auc:0.94394\tvalidation_0-error:0.087132\tvalidation_1-auc:0.94308\tvalidation_1-error:0.091527\n",
            "[31]\tvalidation_0-auc:0.944392\tvalidation_0-error:0.087102\tvalidation_1-auc:0.943392\tvalidation_1-error:0.091527\n",
            "[32]\tvalidation_0-auc:0.944338\tvalidation_0-error:0.087041\tvalidation_1-auc:0.943054\tvalidation_1-error:0.092013\n",
            "[33]\tvalidation_0-auc:0.94443\tvalidation_0-error:0.087041\tvalidation_1-auc:0.943208\tvalidation_1-error:0.091648\n",
            "[34]\tvalidation_0-auc:0.944528\tvalidation_0-error:0.08695\tvalidation_1-auc:0.943292\tvalidation_1-error:0.091648\n",
            "[35]\tvalidation_0-auc:0.944804\tvalidation_0-error:0.087011\tvalidation_1-auc:0.943618\tvalidation_1-error:0.092255\n",
            "[36]\tvalidation_0-auc:0.94514\tvalidation_0-error:0.087223\tvalidation_1-auc:0.943974\tvalidation_1-error:0.091648\n",
            "[37]\tvalidation_0-auc:0.945462\tvalidation_0-error:0.085918\tvalidation_1-auc:0.944163\tvalidation_1-error:0.089828\n",
            "[38]\tvalidation_0-auc:0.945544\tvalidation_0-error:0.085706\tvalidation_1-auc:0.944226\tvalidation_1-error:0.089342\n",
            "[39]\tvalidation_0-auc:0.945628\tvalidation_0-error:0.085888\tvalidation_1-auc:0.944284\tvalidation_1-error:0.089585\n",
            "[40]\tvalidation_0-auc:0.94591\tvalidation_0-error:0.085827\tvalidation_1-auc:0.944568\tvalidation_1-error:0.089828\n",
            "[41]\tvalidation_0-auc:0.946014\tvalidation_0-error:0.085857\tvalidation_1-auc:0.944608\tvalidation_1-error:0.09007\n",
            "[42]\tvalidation_0-auc:0.946166\tvalidation_0-error:0.085281\tvalidation_1-auc:0.944745\tvalidation_1-error:0.089706\n",
            "[43]\tvalidation_0-auc:0.946495\tvalidation_0-error:0.085038\tvalidation_1-auc:0.944867\tvalidation_1-error:0.09007\n",
            "[44]\tvalidation_0-auc:0.946569\tvalidation_0-error:0.085463\tvalidation_1-auc:0.944991\tvalidation_1-error:0.089949\n",
            "[45]\tvalidation_0-auc:0.946611\tvalidation_0-error:0.084886\tvalidation_1-auc:0.945023\tvalidation_1-error:0.0874\n",
            "[46]\tvalidation_0-auc:0.946818\tvalidation_0-error:0.084795\tvalidation_1-auc:0.945164\tvalidation_1-error:0.087157\n",
            "[47]\tvalidation_0-auc:0.946937\tvalidation_0-error:0.084522\tvalidation_1-auc:0.945172\tvalidation_1-error:0.086914\n",
            "[48]\tvalidation_0-auc:0.947041\tvalidation_0-error:0.084583\tvalidation_1-auc:0.945332\tvalidation_1-error:0.087036\n",
            "[49]\tvalidation_0-auc:0.947177\tvalidation_0-error:0.083885\tvalidation_1-auc:0.945386\tvalidation_1-error:0.086672\n",
            "[50]\tvalidation_0-auc:0.94728\tvalidation_0-error:0.084461\tvalidation_1-auc:0.945534\tvalidation_1-error:0.08655\n",
            "[51]\tvalidation_0-auc:0.94739\tvalidation_0-error:0.084127\tvalidation_1-auc:0.945639\tvalidation_1-error:0.086429\n",
            "[52]\tvalidation_0-auc:0.947551\tvalidation_0-error:0.083885\tvalidation_1-auc:0.945791\tvalidation_1-error:0.085822\n",
            "[53]\tvalidation_0-auc:0.94767\tvalidation_0-error:0.083885\tvalidation_1-auc:0.945824\tvalidation_1-error:0.086065\n",
            "[54]\tvalidation_0-auc:0.947781\tvalidation_0-error:0.083915\tvalidation_1-auc:0.945936\tvalidation_1-error:0.086065\n",
            "[55]\tvalidation_0-auc:0.947911\tvalidation_0-error:0.083551\tvalidation_1-auc:0.945979\tvalidation_1-error:0.0857\n",
            "[56]\tvalidation_0-auc:0.948022\tvalidation_0-error:0.083399\tvalidation_1-auc:0.946048\tvalidation_1-error:0.085458\n",
            "[57]\tvalidation_0-auc:0.948079\tvalidation_0-error:0.083278\tvalidation_1-auc:0.946081\tvalidation_1-error:0.085336\n",
            "[58]\tvalidation_0-auc:0.948179\tvalidation_0-error:0.083217\tvalidation_1-auc:0.946182\tvalidation_1-error:0.085215\n",
            "[59]\tvalidation_0-auc:0.948283\tvalidation_0-error:0.083035\tvalidation_1-auc:0.946286\tvalidation_1-error:0.085458\n",
            "[60]\tvalidation_0-auc:0.948455\tvalidation_0-error:0.082822\tvalidation_1-auc:0.946329\tvalidation_1-error:0.085093\n",
            "[61]\tvalidation_0-auc:0.948739\tvalidation_0-error:0.082519\tvalidation_1-auc:0.946552\tvalidation_1-error:0.08388\n",
            "[62]\tvalidation_0-auc:0.948764\tvalidation_0-error:0.082792\tvalidation_1-auc:0.94662\tvalidation_1-error:0.083394\n",
            "[63]\tvalidation_0-auc:0.949046\tvalidation_0-error:0.082671\tvalidation_1-auc:0.946817\tvalidation_1-error:0.08388\n",
            "[64]\tvalidation_0-auc:0.949128\tvalidation_0-error:0.08261\tvalidation_1-auc:0.946944\tvalidation_1-error:0.084122\n",
            "[65]\tvalidation_0-auc:0.949322\tvalidation_0-error:0.082428\tvalidation_1-auc:0.947076\tvalidation_1-error:0.084365\n",
            "[66]\tvalidation_0-auc:0.949386\tvalidation_0-error:0.082398\tvalidation_1-auc:0.947088\tvalidation_1-error:0.083515\n",
            "[67]\tvalidation_0-auc:0.949501\tvalidation_0-error:0.082307\tvalidation_1-auc:0.947131\tvalidation_1-error:0.083515\n",
            "[68]\tvalidation_0-auc:0.949638\tvalidation_0-error:0.081942\tvalidation_1-auc:0.947241\tvalidation_1-error:0.082666\n",
            "[69]\tvalidation_0-auc:0.949797\tvalidation_0-error:0.082124\tvalidation_1-auc:0.947292\tvalidation_1-error:0.082908\n",
            "[70]\tvalidation_0-auc:0.949883\tvalidation_0-error:0.082033\tvalidation_1-auc:0.94734\tvalidation_1-error:0.082787\n",
            "[71]\tvalidation_0-auc:0.94998\tvalidation_0-error:0.081882\tvalidation_1-auc:0.947417\tvalidation_1-error:0.082666\n",
            "[72]\tvalidation_0-auc:0.950009\tvalidation_0-error:0.082003\tvalidation_1-auc:0.947418\tvalidation_1-error:0.082787\n",
            "[73]\tvalidation_0-auc:0.950117\tvalidation_0-error:0.081608\tvalidation_1-auc:0.947514\tvalidation_1-error:0.082787\n",
            "[74]\tvalidation_0-auc:0.950234\tvalidation_0-error:0.081457\tvalidation_1-auc:0.947508\tvalidation_1-error:0.082423\n",
            "[75]\tvalidation_0-auc:0.950331\tvalidation_0-error:0.081517\tvalidation_1-auc:0.947652\tvalidation_1-error:0.08218\n",
            "[76]\tvalidation_0-auc:0.95038\tvalidation_0-error:0.081366\tvalidation_1-auc:0.947674\tvalidation_1-error:0.08218\n",
            "[77]\tvalidation_0-auc:0.95043\tvalidation_0-error:0.081305\tvalidation_1-auc:0.947672\tvalidation_1-error:0.081816\n",
            "[78]\tvalidation_0-auc:0.950529\tvalidation_0-error:0.080971\tvalidation_1-auc:0.947704\tvalidation_1-error:0.081937\n",
            "[79]\tvalidation_0-auc:0.950596\tvalidation_0-error:0.080789\tvalidation_1-auc:0.947699\tvalidation_1-error:0.081573\n",
            "[80]\tvalidation_0-auc:0.950645\tvalidation_0-error:0.080941\tvalidation_1-auc:0.947735\tvalidation_1-error:0.081816\n",
            "[81]\tvalidation_0-auc:0.950745\tvalidation_0-error:0.080668\tvalidation_1-auc:0.947795\tvalidation_1-error:0.081573\n",
            "[82]\tvalidation_0-auc:0.950783\tvalidation_0-error:0.08088\tvalidation_1-auc:0.947832\tvalidation_1-error:0.081209\n",
            "[83]\tvalidation_0-auc:0.950893\tvalidation_0-error:0.080607\tvalidation_1-auc:0.947801\tvalidation_1-error:0.081452\n",
            "[84]\tvalidation_0-auc:0.950925\tvalidation_0-error:0.080577\tvalidation_1-auc:0.947822\tvalidation_1-error:0.081209\n",
            "[85]\tvalidation_0-auc:0.951017\tvalidation_0-error:0.080789\tvalidation_1-auc:0.947854\tvalidation_1-error:0.080966\n",
            "[86]\tvalidation_0-auc:0.951033\tvalidation_0-error:0.08085\tvalidation_1-auc:0.947834\tvalidation_1-error:0.081088\n",
            "[87]\tvalidation_0-auc:0.951123\tvalidation_0-error:0.080789\tvalidation_1-auc:0.947828\tvalidation_1-error:0.080966\n",
            "[88]\tvalidation_0-auc:0.951201\tvalidation_0-error:0.080819\tvalidation_1-auc:0.947892\tvalidation_1-error:0.081452\n",
            "[89]\tvalidation_0-auc:0.951225\tvalidation_0-error:0.080486\tvalidation_1-auc:0.947947\tvalidation_1-error:0.081573\n",
            "[90]\tvalidation_0-auc:0.951487\tvalidation_0-error:0.080607\tvalidation_1-auc:0.948189\tvalidation_1-error:0.081816\n",
            "[91]\tvalidation_0-auc:0.951646\tvalidation_0-error:0.080455\tvalidation_1-auc:0.948346\tvalidation_1-error:0.081937\n",
            "[92]\tvalidation_0-auc:0.951726\tvalidation_0-error:0.080395\tvalidation_1-auc:0.94838\tvalidation_1-error:0.081937\n",
            "[93]\tvalidation_0-auc:0.9518\tvalidation_0-error:0.080516\tvalidation_1-auc:0.948409\tvalidation_1-error:0.081573\n",
            "[94]\tvalidation_0-auc:0.95191\tvalidation_0-error:0.080334\tvalidation_1-auc:0.948405\tvalidation_1-error:0.081816\n",
            "[95]\tvalidation_0-auc:0.951941\tvalidation_0-error:0.080364\tvalidation_1-auc:0.948427\tvalidation_1-error:0.08218\n",
            "[96]\tvalidation_0-auc:0.952047\tvalidation_0-error:0.080152\tvalidation_1-auc:0.948506\tvalidation_1-error:0.08218\n",
            "[97]\tvalidation_0-auc:0.952114\tvalidation_0-error:0.080091\tvalidation_1-auc:0.948494\tvalidation_1-error:0.08218\n",
            "[98]\tvalidation_0-auc:0.952137\tvalidation_0-error:0.080303\tvalidation_1-auc:0.948467\tvalidation_1-error:0.082423\n",
            "[99]\tvalidation_0-auc:0.952219\tvalidation_0-error:0.08\tvalidation_1-auc:0.948472\tvalidation_1-error:0.08218\n"
          ]
        },
        {
          "output_type": "execute_result",
          "data": {
            "text/plain": [
              "XGBClassifier()"
            ]
          },
          "metadata": {},
          "execution_count": 70
        }
      ]
    },
    {
      "cell_type": "code",
      "source": [
        "results = xgb1.evals_result()\n",
        "epochs = len(results['validation_0']['error'])\n",
        "x_axis = range(0, epochs)"
      ],
      "metadata": {
        "id": "vwQoTDPdz2ke"
      },
      "execution_count": 72,
      "outputs": []
    },
    {
      "cell_type": "code",
      "source": [
        "import matplotlib.pyplot as plt\n",
        "\n",
        "fig, ax = plt.subplots()\n",
        "ax.plot(x_axis, results['validation_0']['error'], label='Train')\n",
        "ax.plot(x_axis, results['validation_1']['error'], label='Test')\n",
        "ax.legend()\n",
        "plt.ylabel('Error')\n",
        "plt.title('XGBoost Error Plot')\n",
        "plt.show()"
      ],
      "metadata": {
        "colab": {
          "base_uri": "https://localhost:8080/",
          "height": 281
        },
        "id": "eWob4uXm1leQ",
        "outputId": "c6415b35-9941-4cb8-c631-2f75e58e4c97"
      },
      "execution_count": 74,
      "outputs": [
        {
          "output_type": "display_data",
          "data": {
            "text/plain": [
              "<Figure size 432x288 with 1 Axes>"
            ],
            "image/png": "[encoded data removed]"
          },
          "metadata": {
            "needs_background": "light"
          }
        }
      ]
    },
    {
      "cell_type": "markdown",
      "source": [
        "**TEST:**"
      ],
      "metadata": {
        "id": "UdkB-v633Vsc"
      }
    },
    {
      "cell_type": "code",
      "source": [
        "pred=xgb1.predict(x_test)\n",
        "\n",
        "from sklearn.metrics import accuracy_score\n",
        "\n",
        "print(accuracy_score(y_test,pred))"
      ],
      "metadata": {
        "colab": {
          "base_uri": "https://localhost:8080/"
        },
        "id": "AedrhEq6kZrw",
        "outputId": "e455638c-b496-4bb4-fc5e-e1c1f1acd9c4"
      },
      "execution_count": 75,
      "outputs": [
        {
          "output_type": "stream",
          "name": "stdout",
          "text": [
            "0.9178198591891236\n"
          ]
        }
      ]
    }
  ]
}